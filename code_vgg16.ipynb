{
 "cells": [
  {
   "cell_type": "code",
   "execution_count": 1,
   "id": "cc77b919",
   "metadata": {},
   "outputs": [],
   "source": [
    "# importing the dependencies\n",
    "import numpy as np \n",
    "import pandas as pd \n",
    "import os\n",
    "import matplotlib.pyplot as plt\n",
    "import seaborn as sns\n",
    "from tensorflow.keras.models import load_model\n",
    "import keras\n",
    "from keras.models import Sequential\n",
    "from keras.layers import Dense, Conv2D , MaxPool2D , Flatten , Dropout , BatchNormalization\n",
    "from keras.preprocessing.image import ImageDataGenerator\n",
    "from sklearn.model_selection import train_test_split\n",
    "from sklearn.metrics import classification_report,confusion_matrix\n",
    "from keras.callbacks import ReduceLROnPlateau"
   ]
  },
  {
   "cell_type": "code",
   "execution_count": 37,
   "id": "7da27ada",
   "metadata": {},
   "outputs": [],
   "source": [
    "# loading the dataset\n",
    "train_df = pd.read_csv(\"dataset/sign_mnist_train.csv\")\n",
    "test_df = pd.read_csv(\"dataset/sign_mnist_test.csv\")\n",
    "test = pd.read_csv(\"dataset/sign_mnist_test.csv\")\n",
    "train = pd.read_csv(\"dataset/sign_mnist_train.csv\")\n",
    "y2 = test['label']\n",
    "y1 = train['label']"
   ]
  },
  {
   "cell_type": "code",
   "execution_count": 38,
   "id": "3f1283b5",
   "metadata": {},
   "outputs": [],
   "source": [
    "y_train = train_df['label']\n",
    "y_test = test_df['label']\n",
    "del train_df['label']\n",
    "del test_df['label']"
   ]
  },
  {
   "cell_type": "code",
   "execution_count": 39,
   "id": "02460c41",
   "metadata": {},
   "outputs": [
    {
     "data": {
      "text/plain": [
       "array([ 0,  1,  2,  3,  4,  5,  6,  7,  8, 10, 11, 12, 13, 14, 15, 16, 17,\n",
       "       18, 19, 20, 21, 22, 23, 24], dtype=int64)"
      ]
     },
     "execution_count": 39,
     "metadata": {},
     "output_type": "execute_result"
    }
   ],
   "source": [
    "# managing missing label 9 \n",
    "from sklearn.preprocessing import LabelBinarizer\n",
    "label_binarizer = LabelBinarizer()\n",
    "y_train = label_binarizer.fit_transform(y_train)\n",
    "y_test = label_binarizer.fit_transform(y_test)"
   ]
  },
  {
   "cell_type": "code",
   "execution_count": 40,
   "id": "ce385461",
   "metadata": {},
   "outputs": [],
   "source": [
    "x_train = train_df.values\n",
    "x_test = test_df.values"
   ]
  },
  {
   "cell_type": "code",
   "execution_count": 41,
   "id": "6e085ab7",
   "metadata": {},
   "outputs": [],
   "source": [
    "# Normalize the data\n",
    "x_train = x_train / 255\n",
    "x_test = x_test / 255"
   ]
  },
  {
   "cell_type": "code",
   "execution_count": 53,
   "id": "f779da0d",
   "metadata": {},
   "outputs": [],
   "source": [
    "X_train = x_train.reshape(27455, 28, 28)\n",
    "X_test = x_test.reshape(7172, 28, 28)"
   ]
  },
  {
   "cell_type": "code",
   "execution_count": 54,
   "id": "3439370e",
   "metadata": {},
   "outputs": [],
   "source": [
    "X_train_md = X_train\n",
    "X1 = []\n",
    "for i in X_train_md:\n",
    "    tmp = np.zeros((4,28))\n",
    "\n",
    "    i = np.vstack((i,tmp))\n",
    "\n",
    "    tmp = np.zeros((32,4))\n",
    "    i = np.hstack((i, tmp))\n",
    "    X1.append(i)\n",
    "    \n",
    "X_test_md = X_test\n",
    "X2 = []\n",
    "for i in X_test_md:\n",
    "    tmp = np.zeros((4,28))\n",
    "\n",
    "    i = np.vstack((i,tmp))\n",
    "\n",
    "    tmp = np.zeros((32,4))\n",
    "    i = np.hstack((i, tmp))\n",
    "    X2.append(i)"
   ]
  },
  {
   "cell_type": "code",
   "execution_count": 55,
   "id": "85293758",
   "metadata": {},
   "outputs": [],
   "source": [
    "X_train = np.stack((X1,)*3, axis=-1)\n",
    "\n",
    "X_test = np.stack((X2,)*3, axis=-1)"
   ]
  },
  {
   "cell_type": "code",
   "execution_count": 56,
   "id": "415d23a1",
   "metadata": {},
   "outputs": [
    {
     "name": "stdout",
     "output_type": "stream",
     "text": [
      "X-Test Shape: (7172, 32, 32, 3)\n",
      "X-Train Shape: (27455, 32, 32, 3)\n",
      "Y-Test Shape: (7172, 24)\n",
      "Y-Train Shape: (27455, 24)\n",
      "Each Image Shape: (32, 32, 3)\n"
     ]
    }
   ],
   "source": [
    "print(\"X-Test Shape: {}\".format(X_test.shape))\n",
    "print(\"X-Train Shape: {}\".format(X_train.shape))\n",
    "print(\"Y-Test Shape: {}\".format(y_test.shape))\n",
    "print(\"Y-Train Shape: {}\".format(y_train.shape))\n",
    "print(\"Each Image Shape: {}\".format(X_train[0].shape))"
   ]
  },
  {
   "cell_type": "code",
   "execution_count": 57,
   "id": "4fda05e7",
   "metadata": {},
   "outputs": [
    {
     "data": {
      "image/png": "[encoded data removed]",
      "text/plain": [
       "<Figure size 720x720 with 10 Axes>"
      ]
     },
     "metadata": {
      "needs_background": "light"
     },
     "output_type": "display_data"
    }
   ],
   "source": [
    "# Preview of first 5 images\n",
    "\n",
    "f, ax = plt.subplots(2,5) \n",
    "f.set_size_inches(10, 10)\n",
    "k = 0\n",
    "for i in range(2):\n",
    "    for j in range(5):\n",
    "        ax[i,j].imshow(X_train[k])\n",
    "        k += 1\n",
    "    plt.tight_layout() "
   ]
  },
  {
   "cell_type": "code",
   "execution_count": 12,
   "id": "0b9ea977",
   "metadata": {},
   "outputs": [],
   "source": [
    "from tensorflow.keras.applications.vgg16 import VGG16\n",
    "from tensorflow.keras.applications.vgg16 import preprocess_input\n",
    "\n",
    "## Loading VGG16 model\n",
    "base_model = VGG16(weights=\"imagenet\", include_top=False, input_shape=X_train[0].shape)\n",
    "base_model.trainable = False ## Not trainable weights\n"
   ]
  },
  {
   "cell_type": "code",
   "execution_count": 13,
   "id": "860271bf",
   "metadata": {},
   "outputs": [
    {
     "data": {
      "image/png": "[encoded data removed]",
      "text/plain": [
       "<Figure size 432x288 with 1 Axes>"
      ]
     },
     "metadata": {
      "needs_background": "light"
     },
     "output_type": "display_data"
    }
   ],
   "source": [
    "plt.imshow(X_train[0])\n",
    "plt.show()"
   ]
  },
  {
   "cell_type": "code",
   "execution_count": 14,
   "id": "89252ffd",
   "metadata": {},
   "outputs": [
    {
     "name": "stdout",
     "output_type": "stream",
     "text": [
      "Model: \"vgg16\"\n",
      "_________________________________________________________________\n",
      " Layer (type)                Output Shape              Param #   \n",
      "=================================================================\n",
      " input_1 (InputLayer)        [(None, 32, 32, 3)]       0         \n",
      "                                                                 \n",
      " block1_conv1 (Conv2D)       (None, 32, 32, 64)        1792      \n",
      "                                                                 \n",
      " block1_conv2 (Conv2D)       (None, 32, 32, 64)        36928     \n",
      "                                                                 \n",
      " block1_pool (MaxPooling2D)  (None, 16, 16, 64)        0         \n",
      "                                                                 \n",
      " block2_conv1 (Conv2D)       (None, 16, 16, 128)       73856     \n",
      "                                                                 \n",
      " block2_conv2 (Conv2D)       (None, 16, 16, 128)       147584    \n",
      "                                                                 \n",
      " block2_pool (MaxPooling2D)  (None, 8, 8, 128)         0         \n",
      "                                                                 \n",
      " block3_conv1 (Conv2D)       (None, 8, 8, 256)         295168    \n",
      "                                                                 \n",
      " block3_conv2 (Conv2D)       (None, 8, 8, 256)         590080    \n",
      "                                                                 \n",
      " block3_conv3 (Conv2D)       (None, 8, 8, 256)         590080    \n",
      "                                                                 \n",
      " block3_pool (MaxPooling2D)  (None, 4, 4, 256)         0         \n",
      "                                                                 \n",
      " block4_conv1 (Conv2D)       (None, 4, 4, 512)         1180160   \n",
      "                                                                 \n",
      " block4_conv2 (Conv2D)       (None, 4, 4, 512)         2359808   \n",
      "                                                                 \n",
      " block4_conv3 (Conv2D)       (None, 4, 4, 512)         2359808   \n",
      "                                                                 \n",
      " block4_pool (MaxPooling2D)  (None, 2, 2, 512)         0         \n",
      "                                                                 \n",
      " block5_conv1 (Conv2D)       (None, 2, 2, 512)         2359808   \n",
      "                                                                 \n",
      " block5_conv2 (Conv2D)       (None, 2, 2, 512)         2359808   \n",
      "                                                                 \n",
      " block5_conv3 (Conv2D)       (None, 2, 2, 512)         2359808   \n",
      "                                                                 \n",
      " block5_pool (MaxPooling2D)  (None, 1, 1, 512)         0         \n",
      "                                                                 \n",
      "=================================================================\n",
      "Total params: 14,714,688\n",
      "Trainable params: 0\n",
      "Non-trainable params: 14,714,688\n",
      "_________________________________________________________________\n"
     ]
    }
   ],
   "source": [
    "base_model.summary()"
   ]
  },
  {
   "cell_type": "code",
   "execution_count": 15,
   "id": "ba3ffc05",
   "metadata": {},
   "outputs": [],
   "source": [
    "from tensorflow.keras import layers, models\n",
    "\n",
    "flatten_layer = layers.Flatten()\n",
    "dense_layer_1 = layers.Dense(50, activation='relu')\n",
    "dense_layer_2 = layers.Dense(20, activation='relu')\n",
    "prediction_layer = layers.Dense(24, activation='softmax')\n",
    "\n",
    "\n",
    "model = models.Sequential([\n",
    "    base_model,\n",
    "    flatten_layer,\n",
    "    dense_layer_1,\n",
    "    dense_layer_2,\n",
    "    prediction_layer\n",
    "])"
   ]
  },
  {
   "cell_type": "code",
   "execution_count": 16,
   "id": "a7fddd3b",
   "metadata": {},
   "outputs": [],
   "source": [
    "from tensorflow.keras.callbacks import EarlyStopping\n",
    "\n",
    "model.compile(\n",
    "    optimizer='adam',\n",
    "    loss='categorical_crossentropy',\n",
    "    metrics=['accuracy'],\n",
    ")\n",
    "\n",
    "\n",
    "es = EarlyStopping(monitor='val_accuracy', mode='max', patience=5,  restore_best_weights=True)"
   ]
  },
  {
   "cell_type": "code",
   "execution_count": 72,
   "id": "036c84c4",
   "metadata": {},
   "outputs": [
    {
     "name": "stdout",
     "output_type": "stream",
     "text": [
      "Epoch 1/5\n",
      "687/687 [==============================] - 158s 226ms/step - loss: 0.0103 - accuracy: 0.9976 - val_loss: 0.0082 - val_accuracy: 0.9982\n",
      "Epoch 2/5\n",
      "687/687 [==============================] - 157s 228ms/step - loss: 0.0088 - accuracy: 0.9980 - val_loss: 0.0183 - val_accuracy: 0.9942\n",
      "Epoch 3/5\n",
      "687/687 [==============================] - 154s 224ms/step - loss: 0.0083 - accuracy: 0.9980 - val_loss: 0.0133 - val_accuracy: 0.9965\n",
      "Epoch 4/5\n",
      "687/687 [==============================] - 157s 228ms/step - loss: 0.0087 - accuracy: 0.9981 - val_loss: 0.0089 - val_accuracy: 0.9975\n",
      "Epoch 5/5\n",
      "687/687 [==============================] - 157s 229ms/step - loss: 0.0092 - accuracy: 0.9976 - val_loss: 0.0235 - val_accuracy: 0.9916\n"
     ]
    },
    {
     "data": {
      "text/plain": [
       "<keras.callbacks.History at 0x1962e34a730>"
      ]
     },
     "execution_count": 72,
     "metadata": {},
     "output_type": "execute_result"
    }
   ],
   "source": [
    "model.fit(X_train, y_train, epochs=5, validation_split=0.2, batch_size=32, callbacks=[es])"
   ]
  },
  {
   "cell_type": "code",
   "execution_count": 71,
   "id": "296530a5",
   "metadata": {},
   "outputs": [],
   "source": [
    "from tensorflow.keras.models import load_model\n",
    "\n",
    "# model.save(\"vgg16.h5\")\n",
    "# model.save_weights(\"vgg16_weights.h5\")"
   ]
  },
  {
   "cell_type": "code",
   "execution_count": 73,
   "id": "6c562194",
   "metadata": {},
   "outputs": [
    {
     "name": "stdout",
     "output_type": "stream",
     "text": [
      "225/225 [==============================] - 38s 170ms/step - loss: 0.4736 - accuracy: 0.9027\n"
     ]
    },
    {
     "data": {
      "text/plain": [
       "[0.473594069480896, 0.902677059173584]"
      ]
     },
     "execution_count": 73,
     "metadata": {},
     "output_type": "execute_result"
    }
   ],
   "source": [
    "model.evaluate(X_test, y_test)"
   ]
  },
  {
   "cell_type": "code",
   "execution_count": 40,
   "id": "846301cd",
   "metadata": {},
   "outputs": [
    {
     "name": "stdout",
     "output_type": "stream",
     "text": [
      "225/225 [==============================] - 43s 189ms/step\n"
     ]
    }
   ],
   "source": [
    "y_pred = model.predict(X_test)"
   ]
  },
  {
   "cell_type": "code",
   "execution_count": 63,
   "id": "03a9932f",
   "metadata": {},
   "outputs": [
    {
     "data": {
      "text/plain": [
       "array([6, 5, 9, ..., 2, 4, 2], dtype=int64)"
      ]
     },
     "execution_count": 63,
     "metadata": {},
     "output_type": "execute_result"
    }
   ],
   "source": [
    "y_pred_labels = [np.argmax(i) for i in  y_pred]\n",
    "np.array(y_pred_labels)"
   ]
  },
  {
   "cell_type": "code",
   "execution_count": 67,
   "id": "90db9db5",
   "metadata": {},
   "outputs": [],
   "source": [
    "y_test_labels = [np.argmax(i) for i in  y_test]"
   ]
  },
  {
   "cell_type": "code",
   "execution_count": 59,
   "id": "b1aba78e",
   "metadata": {},
   "outputs": [],
   "source": [
    "loaded_model = load_model(\"vgg16.h5\")\n",
    "loaded_model.load_weights(\"vgg16_weights.h5\")"
   ]
  },
  {
   "cell_type": "code",
   "execution_count": 60,
   "id": "defdcd38",
   "metadata": {},
   "outputs": [
    {
     "name": "stdout",
     "output_type": "stream",
     "text": [
      "225/225 [==============================] - 45s 193ms/step - loss: 0.3726 - accuracy: 0.9087\n"
     ]
    },
    {
     "data": {
      "text/plain": [
       "[0.3726140260696411, 0.9086726307868958]"
      ]
     },
     "execution_count": 60,
     "metadata": {},
     "output_type": "execute_result"
    }
   ],
   "source": [
    "loaded_model.evaluate(X_test, y_test)"
   ]
  },
  {
   "cell_type": "code",
   "execution_count": 62,
   "id": "ce728f24",
   "metadata": {},
   "outputs": [
    {
     "name": "stdout",
     "output_type": "stream",
     "text": [
      "225/225 [==============================] - 46s 201ms/step\n"
     ]
    }
   ],
   "source": [
    "y_pred = loaded_model.predict(X_test)"
   ]
  },
  {
   "cell_type": "code",
   "execution_count": 64,
   "id": "902278da",
   "metadata": {},
   "outputs": [
    {
     "data": {
      "text/plain": [
       "array([6, 5, 9, ..., 2, 4, 2], dtype=int64)"
      ]
     },
     "execution_count": 64,
     "metadata": {},
     "output_type": "execute_result"
    }
   ],
   "source": [
    "y_pred_labels = [np.argmax(i) for i in  y_pred]\n",
    "np.array(y_pred_labels)"
   ]
  },
  {
   "cell_type": "code",
   "execution_count": 69,
   "id": "4b9e31fd",
   "metadata": {},
   "outputs": [
    {
     "data": {
      "text/plain": [
       "0.9086726157278304"
      ]
     },
     "execution_count": 69,
     "metadata": {},
     "output_type": "execute_result"
    }
   ],
   "source": [
    "np.array(y2)\n",
    "accuracy_score(np.array(y_test_labels), np.array(y_pred_labels))"
   ]
  },
  {
   "cell_type": "code",
   "execution_count": 68,
   "id": "d8065a50",
   "metadata": {},
   "outputs": [
    {
     "data": {
      "text/plain": [
       "0.9086726157278304"
      ]
     },
     "execution_count": 68,
     "metadata": {},
     "output_type": "execute_result"
    }
   ],
   "source": [
    "from sklearn.metrics import accuracy_score\n",
    "accuracy_score(y_test_labels, y_pred_labels)"
   ]
  },
  {
   "cell_type": "code",
   "execution_count": 78,
   "id": "a31fb66d",
   "metadata": {},
   "outputs": [
    {
     "data": {
      "image/png": "[encoded data removed]",
      "text/plain": [
       "<Figure size 432x288 with 1 Axes>"
      ]
     },
     "metadata": {
      "needs_background": "light"
     },
     "output_type": "display_data"
    },
    {
     "name": "stdout",
     "output_type": "stream",
     "text": [
      "Original: 4, Predicted: 4\n"
     ]
    }
   ],
   "source": [
    "test_index = 1234\n",
    "plt.imshow(X_test[test_index])\n",
    "plt.show()\n",
    "print(\"Original: {}, Predicted: {}\".format(y_test_labels[test_index], y_pred_labels[test_index]))"
   ]
  },
  {
   "cell_type": "code",
   "execution_count": null,
   "id": "f4daf373",
   "metadata": {},
   "outputs": [],
   "source": []
  }
 ],
 "metadata": {
  "kernelspec": {
   "display_name": "Python 3 (ipykernel)",
   "language": "python",
   "name": "python3"
  },
  "language_info": {
   "codemirror_mode": {
    "name": "ipython",
    "version": 3
   },
   "file_extension": ".py",
   "mimetype": "text/x-python",
   "name": "python",
   "nbconvert_exporter": "python",
   "pygments_lexer": "ipython3",
   "version": "3.9.7"
  }
 },
 "nbformat": 4,
 "nbformat_minor": 5
}
